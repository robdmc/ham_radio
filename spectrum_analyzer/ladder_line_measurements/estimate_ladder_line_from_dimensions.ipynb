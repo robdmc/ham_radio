{
 "cells": [
  {
   "cell_type": "code",
   "execution_count": 1,
   "id": "61b50ae2",
   "metadata": {},
   "outputs": [],
   "source": [
    "from astropy import units as u\n",
    "import numpy as np\n",
    "from astropy import constants as con"
   ]
  },
  {
   "cell_type": "code",
   "execution_count": 47,
   "id": "949017de",
   "metadata": {},
   "outputs": [],
   "source": [
    "D = (2 * u.cm).decompose()\n",
    "D = .930 * u.imperial.inch\n",
    "A = (1.29 / 2) * u.mm.decompose()\n",
    "# A = (.065 * u.imperial.inch / 2)"
   ]
  },
  {
   "cell_type": "code",
   "execution_count": 66,
   "id": "5936b181",
   "metadata": {},
   "outputs": [
    {
     "data": {
      "text/latex": [
       "$1.4399748 \\times 10^{-6} \\; \\mathrm{\\frac{H}{m}}$"
      ],
      "text/plain": [
       "<Quantity 1.43997482e-06 H / m>"
      ]
     },
     "metadata": {},
     "output_type": "display_data"
    },
    {
     "data": {
      "text/latex": [
       "$9.3108803 \\times 10^{-12} \\; \\mathrm{\\frac{F}{m}}$"
      ],
      "text/plain": [
       "<Quantity 9.31088031e-12 F / m>"
      ]
     },
     "metadata": {},
     "output_type": "display_data"
    }
   ],
   "source": [
    "mu = con.mu0\n",
    "eps = 1.205 * con.eps0\n",
    "\n",
    "Lp = ((mu / np.pi) * np.arccosh(D / (2 * A)).value).to(u.henry / u.m)\n",
    "Cp = np.pi * eps / np.arccosh(D / (2 * A)).value\n",
    "display(Lp)\n",
    "display(Cp)"
   ]
  },
  {
   "cell_type": "code",
   "execution_count": 67,
   "id": "87f6b98b",
   "metadata": {},
   "outputs": [
    {
     "data": {
      "text/latex": [
       "$393.26208 \\; \\mathrm{\\Omega}$"
      ],
      "text/plain": [
       "<Quantity 393.26208431 Ohm>"
      ]
     },
     "metadata": {},
     "output_type": "display_data"
    },
    {
     "data": {
      "text/latex": [
       "$0.91097504 \\; \\mathrm{}$"
      ],
      "text/plain": [
       "<Quantity 0.91097504>"
      ]
     },
     "metadata": {},
     "output_type": "display_data"
    }
   ],
   "source": [
    "Zi = np.sqrt(Lp / Cp).to(u.ohm)\n",
    "vf = (1 / (con.c * np.sqrt(Lp * Cp)))\n",
    "display(Zi)\n",
    "display(vf)"
   ]
  },
  {
   "cell_type": "code",
   "execution_count": null,
   "id": "238f2836",
   "metadata": {},
   "outputs": [],
   "source": []
  }
 ],
 "metadata": {
  "kernelspec": {
   "display_name": "Python 3",
   "language": "python",
   "name": "python3"
  },
  "language_info": {
   "codemirror_mode": {
    "name": "ipython",
    "version": 3
   },
   "file_extension": ".py",
   "mimetype": "text/x-python",
   "name": "python",
   "nbconvert_exporter": "python",
   "pygments_lexer": "ipython3",
   "version": "3.8.8"
  }
 },
 "nbformat": 4,
 "nbformat_minor": 5
}
