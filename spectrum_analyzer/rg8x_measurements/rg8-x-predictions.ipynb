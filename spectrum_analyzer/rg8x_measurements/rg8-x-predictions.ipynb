{
 "cells": [
  {
   "cell_type": "code",
   "execution_count": 11,
   "metadata": {},
   "outputs": [],
   "source": [
    "import numpy as np\n",
    "from astropy import units as u\n",
    "from astropy import constants as con\n",
    "%config Completer.use_jedi = False"
   ]
  },
  {
   "cell_type": "code",
   "execution_count": 41,
   "metadata": {},
   "outputs": [],
   "source": [
    "l_spec = 50 * u.imperial.ft\n",
    "l_meas = 15.24 * u.m\n",
    "z0_spec = 50 * u.ohm\n",
    "z0_meas = 58 * u.ohm\n",
    "vf = .8035\n",
    "freq = 14 * u.MHz"
   ]
  },
  {
   "cell_type": "code",
   "execution_count": 42,
   "metadata": {},
   "outputs": [
    {
     "data": {
      "text/latex": [
       "$8.5265128 \\times 10^{-14} \\; \\mathrm{inch}$"
      ],
      "text/plain": [
       "<Quantity 8.52651283e-14 inch>"
      ]
     },
     "execution_count": 42,
     "metadata": {},
     "output_type": "execute_result"
    }
   ],
   "source": [
    "(l_spec - l_meas).to(u.imperial.inch)"
   ]
  },
  {
   "cell_type": "code",
   "execution_count": 43,
   "metadata": {},
   "outputs": [
    {
     "data": {
      "text/latex": [
       "$(58.101742+14.962454i) \\; \\mathrm{\\Omega}$"
      ],
      "text/plain": [
       "<Quantity 58.10174235+14.96245398j Ohm>"
      ]
     },
     "execution_count": 43,
     "metadata": {},
     "output_type": "execute_result"
    }
   ],
   "source": [
    "def get_input_z(zL, z0, l, vf, freq):\n",
    "    gamma = 1j* 2 * np.pi * freq / (vf * con.c)\n",
    "\n",
    "    B = np.tanh((gamma * l).decompose().value)\n",
    "    z_in = z0 * (zL + B * z0) / (z0 + B * zL)\n",
    "    return z_in\n",
    "\n",
    "zL = 75 * u.ohm\n",
    "z0 = z0_meas\n",
    "l = l_meas\n",
    "get_input_z(zL, z0, l, vf, freq)#.decompose()"
   ]
  },
  {
   "cell_type": "code",
   "execution_count": 44,
   "metadata": {},
   "outputs": [],
   "source": [
    "def get_input_z_from_fundamental(l, zL, Lp, Cp, Rp, Gp, freq):\n",
    "    w = 2 * np.pi * freq\n",
    "    \n",
    "    term1 = Rp + 1j * w * Lp\n",
    "    term2 = Gp + 1j * w * Cp\n",
    "    \n",
    "    gamma = np.sqrt(term1 * term2)\n",
    "    zI = np.sqrt(term1 / term2)\n",
    "    \n",
    "    trig = np.tanh(gamma * l)\n",
    "    \n",
    "    z_in = zI * (zL + zI * trig) / (zI + zL * trig)\n",
    "    return z_in"
   ]
  },
  {
   "cell_type": "code",
   "execution_count": null,
   "metadata": {},
   "outputs": [],
   "source": [
    "def penalty(p, zL):\n",
    "    z_in = get_input_z_from_fundamental(p.l, zL, p.Lp, p.Cp, p.Rp, p.Gp, freq)\n",
    "    z_meas = p.x\n",
    "    delta = z_meas - z_in\n",
    "    return np.sum(np.conjugate(delta) * delta)\n"
   ]
  }
 ],
 "metadata": {
  "kernelspec": {
   "display_name": "Python 3",
   "language": "python",
   "name": "python3"
  },
  "language_info": {
   "codemirror_mode": {
    "name": "ipython",
    "version": 3
   },
   "file_extension": ".py",
   "mimetype": "text/x-python",
   "name": "python",
   "nbconvert_exporter": "python",
   "pygments_lexer": "ipython3",
   "version": "3.8.6"
  }
 },
 "nbformat": 4,
 "nbformat_minor": 4
}
