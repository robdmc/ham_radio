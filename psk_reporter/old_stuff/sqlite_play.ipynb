{
 "cells": [
  {
   "cell_type": "code",
   "execution_count": 1,
   "metadata": {},
   "outputs": [],
   "source": [
    "import maidenhead\n",
    "import datetime\n",
    "import pandas as pd\n",
    "import numpy as np\n",
    "import dask.dataframe as dadf\n",
    "import glob\n",
    "import pyarrow.parquet as pq\n",
    "import pyarrow as pa\n",
    "\n",
    "import easier as ezr\n",
    "import duckdb\n",
    "import os\n",
    "import sys\n",
    "from sqlalchemy import create_engine\n",
    "from dateutil.parser import parse\n",
    "import pypeln as pyp\n",
    "\n",
    "# import datashader.spatial.points as dsp"
   ]
  },
  {
   "cell_type": "code",
   "execution_count": 15,
   "metadata": {},
   "outputs": [],
   "source": [
    "class SpotBase:\n",
    "    FILE_NAME = './data/wsprnet/spots.db'\n",
    "    \n",
    "    def __init__(self):\n",
    "        if not os.path.isfile(self.FILE_NAME):\n",
    "            raise RuntimeError(f'Database file not found: {self.FILE_NAME}')\n",
    "            \n",
    "        self.engine = create_engine(f'sqlite:///{self.FILE_NAME}')\n",
    "        \n",
    "class Frame:\n",
    "\n",
    "    @property       \n",
    "    def columns(self):\n",
    "        return [\n",
    "            'time',\n",
    "            'call_sign',\n",
    "            'reporter',\n",
    "            'lat',\n",
    "            'lon',\n",
    "            'lat_reporter',\n",
    "            'lon_reporter',\n",
    "            'distance',\n",
    "            'power',\n",
    "            'snr',\n",
    "            'time_local'        \n",
    "        ]\n",
    "    \n",
    "    @property\n",
    "    def input_columns(self):\n",
    "        return [\n",
    "            'spot_id',\n",
    "            'timestamp',\n",
    "            'reporter',\n",
    "            'reporters_grid',\n",
    "            'snr',\n",
    "            'frequency',\n",
    "            'call_sign',\n",
    "            'grid',\n",
    "            'power',\n",
    "            'drift',\n",
    "            'distance',\n",
    "            'azimuth',\n",
    "            'band',\n",
    "            'version',\n",
    "            'code'\n",
    "        ]\n",
    "            \n",
    "    def load_frame(self, file_name):\n",
    "\n",
    "        df = pd.read_csv(\n",
    "            file_name,\n",
    "            names=self.input_columns,\n",
    "            compression='gzip',\n",
    "        )\n",
    "        return df\n",
    "    \n",
    "    def process_frame(self, df):\n",
    "        df['lat_reporter'], df['lon_reporter'] = list(zip(*(maidenhead.to_location(m) for m in df.reporters_grid)))\n",
    "        df['lat'], df['lon'] = list(zip(*(maidenhead.to_location(m) for m in df.grid)))\n",
    "        df = df[df.code == 0]\n",
    "\n",
    "        df['time'] = df.timestamp // 3600\n",
    "\n",
    "        df = df.groupby(\n",
    "            by=['time', 'call_sign', 'reporter', 'lat', 'lon', 'lat_reporter', 'lon_reporter', 'distance']\n",
    "        )[['power', 'snr']].mean()\n",
    "        df = df.reset_index()\n",
    "        df['time_local'] = [t + h for (t, h) in zip(df.time, df.lon * 12 / 180)]\n",
    "\n",
    "        return df\n",
    "    \n",
    "        \n",
    "        \n",
    "\n",
    "    \n",
    "class Populator(SpotBase, Frame):\n",
    "\n",
    "    def __init__(self, overwrite=False):\n",
    "        if overwrite and os.path.isfile(self.FILE_NAME):\n",
    "            os.unlink(self.FILE_NAME)\n",
    "        \n",
    "        db_exists = os.path.isfile(self.FILE_NAME)\n",
    "        self.engine = create_engine(f'sqlite:///{self.FILE_NAME}')\n",
    "        \n",
    "        if not db_exists:\n",
    "            self.create_table()\n",
    "\n",
    "    def create_table(self):\n",
    "        with self.engine.connect() as con:\n",
    "            cmd = \"\"\"\n",
    "                CREATE TABLE spots(\n",
    "                    time INT8,\n",
    "                    call_sign CHARACTER(12),\n",
    "                    reporter CHARACTER(12),\n",
    "                    lat DOUBLE,\n",
    "                    lon DOUBLE,\n",
    "                    lat_reporter DOUBLE,\n",
    "                    lon_reporter DOUBLE,\n",
    "                    distance INT8,\n",
    "                    power INT2,\n",
    "                    snr INT2,\n",
    "                    time_local DOUBLE      \n",
    "                )\n",
    "            \"\"\"\n",
    "            con.execute(cmd)\n",
    "            \n",
    "    def import_frame(self, df):\n",
    "        df.to_sql('spots', con=self.engine, if_exists='append', index=False)        \n",
    "            \n",
    "    def create_index(self):\n",
    "        commands = \"\"\"\n",
    "            CREATE INDEX IF NOT EXISTS time_ind ON spots (time);\n",
    "        \"\"\"\n",
    "#         commands = \"\"\"\n",
    "#             CREATE INDEX IF NOT EXISTS time_ind ON spots (time);\n",
    "#             CREATE INDEX IF NOT EXISTS lat_ind ON spots (lat);\n",
    "#             CREATE INDEX IF NOT EXISTS lon_ind ON spots (lon);\n",
    "#             CREATE INDEX IF NOT EXISTS lat_reporter_ind ON spots (lat_reporter);\n",
    "#             CREATE INDEX IF NOT EXISTS lon__reporter_ind ON spots (lon_reporter);\n",
    "#         \"\"\"\n",
    "        \n",
    "        with self.engine.connect() as con:\n",
    "            for command in commands.split('\\n'): \n",
    "                con.execute(command)\n",
    "        \n"
   ]
  },
  {
   "cell_type": "code",
   "execution_count": 11,
   "metadata": {},
   "outputs": [
    {
     "data": {
      "application/vnd.jupyter.widget-view+json": {
       "model_id": "6af21125e42e42efa72a86bf0968f686",
       "version_major": 2,
       "version_minor": 0
      },
      "text/plain": [
       "HBox(children=(FloatProgress(value=0.0, description='loaded', max=1064.0, style=ProgressStyle(description_widt…"
      ]
     },
     "metadata": {},
     "output_type": "display_data"
    },
    {
     "data": {
      "application/vnd.jupyter.widget-view+json": {
       "model_id": "af9acc6250c54e4d891dbc3c0f86b50e",
       "version_major": 2,
       "version_minor": 0
      },
      "text/plain": [
       "HBox(children=(FloatProgress(value=0.0, description='processed', max=1064.0, style=ProgressStyle(description_w…"
      ]
     },
     "metadata": {},
     "output_type": "display_data"
    },
    {
     "data": {
      "application/vnd.jupyter.widget-view+json": {
       "model_id": "bdc1c6992f5349efb3515cadcd0def68",
       "version_major": 2,
       "version_minor": 0
      },
      "text/plain": [
       "HBox(children=(FloatProgress(value=0.0, description='imported', max=1064.0, style=ProgressStyle(description_wi…"
      ]
     },
     "metadata": {},
     "output_type": "display_data"
    },
    {
     "name": "stdout",
     "output_type": "stream",
     "text": [
      "\n",
      "\n",
      "\n",
      "\n",
      "\n",
      "\n",
      "\n",
      "\n",
      "\n",
      "\n",
      "\n",
      "\n",
      "\n",
      "\n",
      "\n"
     ]
    }
   ],
   "source": [
    "from tqdm.auto import tqdm\n",
    "files = sorted(glob.glob('./data/wsprnet/2020/wsprspots-2020-*.csv.gz'))\n",
    "\n",
    "pbar1 = tqdm(total=len(files), desc='loaded')\n",
    "pbar2 = tqdm(total=len(files), desc='processed')\n",
    "pbar3 = tqdm(total=len(files), desc='imported')\n",
    "\n",
    "    \n",
    "def get_frame(file_name):\n",
    "    df = Frame().load_frame(file_name)\n",
    "    pbar1.update()\n",
    "    return (file_name, df)\n",
    "\n",
    "def process_frame(tup):\n",
    "    file_name, df = tup\n",
    "    df = Frame().process_frame(df)\n",
    "    return (file_name, df)\n",
    "\n",
    "def post_process(tup):\n",
    "    pbar2.update()\n",
    "    return tup\n",
    "\n",
    "\n",
    "def initialize_db():\n",
    "    Populator(overwrite=True)    \n",
    "    \n",
    "def populate_frame(tup):\n",
    "    file_name, df = tup\n",
    "    Populator(overwrite=False).import_frame(df)\n",
    "    pbar3.update()\n",
    "    return file_name\n",
    "\n",
    "data = (\n",
    "    files\n",
    "    | pyp.thread.map(get_frame, workers=2, maxsize=1)\n",
    "    | pyp.process.map(process_frame, workers=4, maxsize=1)\n",
    "    | pyp.thread.map(post_process, workers=1, maxsize=1)\n",
    "    | pyp.thread.map(populate_frame, workers=1, on_start=initialize_db, maxsize=1)\n",
    "    | list\n",
    ")\n"
   ]
  },
  {
   "cell_type": "code",
   "execution_count": null,
   "metadata": {},
   "outputs": [],
   "source": []
  },
  {
   "cell_type": "code",
   "execution_count": null,
   "metadata": {},
   "outputs": [],
   "source": []
  },
  {
   "cell_type": "code",
   "execution_count": 21,
   "metadata": {},
   "outputs": [
    {
     "name": "stdout",
     "output_type": "stream",
     "text": [
      "__time__,2.160313,query\n"
     ]
    },
    {
     "data": {
      "text/html": [
       "<div>\n",
       "<style scoped>\n",
       "    .dataframe tbody tr th:only-of-type {\n",
       "        vertical-align: middle;\n",
       "    }\n",
       "\n",
       "    .dataframe tbody tr th {\n",
       "        vertical-align: top;\n",
       "    }\n",
       "\n",
       "    .dataframe thead th {\n",
       "        text-align: right;\n",
       "    }\n",
       "</style>\n",
       "<table border=\"1\" class=\"dataframe\">\n",
       "  <thead>\n",
       "    <tr style=\"text-align: right;\">\n",
       "      <th></th>\n",
       "      <th>time</th>\n",
       "      <th>time_local</th>\n",
       "      <th>hour</th>\n",
       "      <th>hour_local</th>\n",
       "      <th>call_sign</th>\n",
       "      <th>reporter</th>\n",
       "      <th>lat</th>\n",
       "      <th>lon</th>\n",
       "      <th>lat_reporter</th>\n",
       "      <th>lon_reporter</th>\n",
       "      <th>distance</th>\n",
       "      <th>power</th>\n",
       "      <th>snr</th>\n",
       "    </tr>\n",
       "  </thead>\n",
       "  <tbody>\n",
       "    <tr>\n",
       "      <th>0</th>\n",
       "      <td>2020-08-15</td>\n",
       "      <td>2020-08-14 23:51:39.999999600</td>\n",
       "      <td>0</td>\n",
       "      <td>23</td>\n",
       "      <td>2E0DSS</td>\n",
       "      <td>AJ8S/1</td>\n",
       "      <td>52.458333</td>\n",
       "      <td>-2.083333</td>\n",
       "      <td>44.208333</td>\n",
       "      <td>-71.000000</td>\n",
       "      <td>4976</td>\n",
       "      <td>33.0</td>\n",
       "      <td>-19.0</td>\n",
       "    </tr>\n",
       "    <tr>\n",
       "      <th>1</th>\n",
       "      <td>2020-08-15</td>\n",
       "      <td>2020-08-14 23:51:39.999999600</td>\n",
       "      <td>0</td>\n",
       "      <td>23</td>\n",
       "      <td>2E0DSS</td>\n",
       "      <td>DB9OH</td>\n",
       "      <td>52.458333</td>\n",
       "      <td>-2.083333</td>\n",
       "      <td>52.333333</td>\n",
       "      <td>10.750000</td>\n",
       "      <td>869</td>\n",
       "      <td>33.0</td>\n",
       "      <td>-18.0</td>\n",
       "    </tr>\n",
       "    <tr>\n",
       "      <th>2</th>\n",
       "      <td>2020-08-15</td>\n",
       "      <td>2020-08-14 23:51:39.999999600</td>\n",
       "      <td>0</td>\n",
       "      <td>23</td>\n",
       "      <td>2E0DSS</td>\n",
       "      <td>DC5AL-R</td>\n",
       "      <td>52.458333</td>\n",
       "      <td>-2.083333</td>\n",
       "      <td>51.416667</td>\n",
       "      <td>6.916667</td>\n",
       "      <td>627</td>\n",
       "      <td>33.0</td>\n",
       "      <td>-13.0</td>\n",
       "    </tr>\n",
       "    <tr>\n",
       "      <th>3</th>\n",
       "      <td>2020-08-15</td>\n",
       "      <td>2020-08-14 23:51:39.999999600</td>\n",
       "      <td>0</td>\n",
       "      <td>23</td>\n",
       "      <td>2E0DSS</td>\n",
       "      <td>DD5XX-3</td>\n",
       "      <td>52.458333</td>\n",
       "      <td>-2.083333</td>\n",
       "      <td>48.708333</td>\n",
       "      <td>9.250000</td>\n",
       "      <td>901</td>\n",
       "      <td>33.0</td>\n",
       "      <td>-24.5</td>\n",
       "    </tr>\n",
       "    <tr>\n",
       "      <th>4</th>\n",
       "      <td>2020-08-15</td>\n",
       "      <td>2020-08-14 23:51:39.999999600</td>\n",
       "      <td>0</td>\n",
       "      <td>23</td>\n",
       "      <td>2E0DSS</td>\n",
       "      <td>DD9LH</td>\n",
       "      <td>52.458333</td>\n",
       "      <td>-2.083333</td>\n",
       "      <td>54.166667</td>\n",
       "      <td>9.083333</td>\n",
       "      <td>765</td>\n",
       "      <td>33.0</td>\n",
       "      <td>-8.0</td>\n",
       "    </tr>\n",
       "  </tbody>\n",
       "</table>\n",
       "</div>"
      ],
      "text/plain": [
       "        time                    time_local  hour  hour_local call_sign  \\\n",
       "0 2020-08-15 2020-08-14 23:51:39.999999600     0          23    2E0DSS   \n",
       "1 2020-08-15 2020-08-14 23:51:39.999999600     0          23    2E0DSS   \n",
       "2 2020-08-15 2020-08-14 23:51:39.999999600     0          23    2E0DSS   \n",
       "3 2020-08-15 2020-08-14 23:51:39.999999600     0          23    2E0DSS   \n",
       "4 2020-08-15 2020-08-14 23:51:39.999999600     0          23    2E0DSS   \n",
       "\n",
       "  reporter        lat       lon  lat_reporter  lon_reporter  distance  power  \\\n",
       "0   AJ8S/1  52.458333 -2.083333     44.208333    -71.000000      4976   33.0   \n",
       "1    DB9OH  52.458333 -2.083333     52.333333     10.750000       869   33.0   \n",
       "2  DC5AL-R  52.458333 -2.083333     51.416667      6.916667       627   33.0   \n",
       "3  DD5XX-3  52.458333 -2.083333     48.708333      9.250000       901   33.0   \n",
       "4    DD9LH  52.458333 -2.083333     54.166667      9.083333       765   33.0   \n",
       "\n",
       "    snr  \n",
       "0 -19.0  \n",
       "1 -18.0  \n",
       "2 -13.0  \n",
       "3 -24.5  \n",
       "4  -8.0  "
      ]
     },
     "metadata": {},
     "output_type": "display_data"
    },
    {
     "data": {
      "text/plain": [
       "671706"
      ]
     },
     "execution_count": 21,
     "metadata": {},
     "output_type": "execute_result"
    }
   ],
   "source": [
    "class Loader(SpotBase):\n",
    "    EPOCH = datetime.datetime(1970, 1, 1)\n",
    "    \n",
    "    def get(self, starting, ending_exclusive):\n",
    "        min_hours = int(np.floor((starting - self.EPOCH).total_seconds() / 3600))\n",
    "        max_hours = int(np.floor((ending_exclusive - self.EPOCH).total_seconds() / 3600))\n",
    "        \n",
    "        sql = f\"\"\"\n",
    "            SELECT \n",
    "                * \n",
    "            FROM \n",
    "                spots \n",
    "            WHERE\n",
    "                time >= {min_hours}\n",
    "            AND\n",
    "                time < {max_hours}\n",
    "        \"\"\"\n",
    "#         sql = f\"\"\"\n",
    "#             SELECT \n",
    "#                 (SELECT MIN(time) from spots) as min_time,\n",
    "#                 (SELECT MAX(time) from spots) as max_time\n",
    "                \n",
    "#         \"\"\"\n",
    "        \n",
    "        \n",
    "        df = pd.read_sql_query(sql, self.engine)\n",
    "        \n",
    "        \n",
    "        df = df.rename(columns={'time': 'timestamp', 'time_local': 'timestamp_local'})\n",
    "        df['time'] = self.EPOCH + pd.to_timedelta(df.timestamp, 'H')\n",
    "        df['time_local'] = self.EPOCH + pd.to_timedelta(df.timestamp_local, 'H')\n",
    "        df['hour'] = df.time.dt.hour\n",
    "        df['hour_local'] = df.time_local.dt.hour\n",
    "        \n",
    "        \n",
    "        return df\n",
    "    \n",
    "starting, ending = datetime.datetime(2020, 8, 15), datetime.datetime(2020, 8, 16)\n",
    "\n",
    "loader = Loader()\n",
    "# df = loader.get(starting, ending)\n",
    "# df.head()\n",
    "\n",
    "with ezr.Timer('query'):\n",
    "    df = loader.get(starting, ending)\n",
    "    df = df[[\n",
    "        'time',\n",
    "        'time_local',\n",
    "        'hour',\n",
    "        'hour_local',       \n",
    "        'call_sign',\n",
    "        'reporter',\n",
    "        'lat',\n",
    "        'lon',\n",
    "        'lat_reporter',\n",
    "        'lon_reporter',\n",
    "        'distance',\n",
    "        'power',\n",
    "        'snr',\n",
    "    ]]\n",
    "    \n",
    "display(df.head())\n",
    "len(df)\n",
    "    "
   ]
  },
  {
   "cell_type": "code",
   "execution_count": 19,
   "metadata": {},
   "outputs": [
    {
     "data": {
      "text/plain": [
       "81203"
      ]
     },
     "execution_count": 19,
     "metadata": {},
     "output_type": "execute_result"
    }
   ],
   "source": [
    "len(df)"
   ]
  },
  {
   "cell_type": "code",
   "execution_count": 114,
   "metadata": {},
   "outputs": [],
   "source": [
    "pop = Populator(overwrite=False)\n",
    "pop.create_index()"
   ]
  },
  {
   "cell_type": "code",
   "execution_count": null,
   "metadata": {},
   "outputs": [],
   "source": []
  },
  {
   "cell_type": "code",
   "execution_count": null,
   "metadata": {},
   "outputs": [],
   "source": []
  },
  {
   "cell_type": "code",
   "execution_count": null,
   "metadata": {},
   "outputs": [],
   "source": []
  },
  {
   "cell_type": "code",
   "execution_count": null,
   "metadata": {},
   "outputs": [],
   "source": []
  },
  {
   "cell_type": "code",
   "execution_count": 31,
   "metadata": {},
   "outputs": [
    {
     "name": "stderr",
     "output_type": "stream",
     "text": [
      "100%|██████████| 26/26 [02:15<00:00,  5.21s/it]"
     ]
    },
    {
     "name": "stdout",
     "output_type": "stream",
     "text": [
      "creating index\n"
     ]
    },
    {
     "name": "stderr",
     "output_type": "stream",
     "text": [
      "\n"
     ]
    },
    {
     "ename": "NameError",
     "evalue": "name 'duck' is not defined",
     "output_type": "error",
     "traceback": [
      "\u001b[0;31m---------------------------------------------------------------------------\u001b[0m",
      "\u001b[0;31mNameError\u001b[0m                                 Traceback (most recent call last)",
      "\u001b[0;32m<ipython-input-31-8ec12c922a15>\u001b[0m in \u001b[0;36m<module>\u001b[0;34m\u001b[0m\n\u001b[1;32m      5\u001b[0m \u001b[0mprint\u001b[0m\u001b[0;34m(\u001b[0m\u001b[0;34m'creating index'\u001b[0m\u001b[0;34m)\u001b[0m\u001b[0;34m\u001b[0m\u001b[0;34m\u001b[0m\u001b[0m\n\u001b[1;32m      6\u001b[0m \u001b[0;32mwith\u001b[0m \u001b[0mezr\u001b[0m\u001b[0;34m.\u001b[0m\u001b[0mTimer\u001b[0m\u001b[0;34m(\u001b[0m\u001b[0;34m'indexing'\u001b[0m\u001b[0;34m)\u001b[0m\u001b[0;34m:\u001b[0m\u001b[0;34m\u001b[0m\u001b[0;34m\u001b[0m\u001b[0m\n\u001b[0;32m----> 7\u001b[0;31m     \u001b[0mduck\u001b[0m\u001b[0;34m.\u001b[0m\u001b[0mcreate_index\u001b[0m\u001b[0;34m(\u001b[0m\u001b[0;34m)\u001b[0m\u001b[0;34m\u001b[0m\u001b[0;34m\u001b[0m\u001b[0m\n\u001b[0m",
      "\u001b[0;31mNameError\u001b[0m: name 'duck' is not defined"
     ]
    }
   ],
   "source": [
    "sq = SQ(overwrite=True)\n",
    "files = glob.glob('./data/wsprnet/2020/wsprspots-2020-01_a*.csv.gz')\n",
    "for file in tqdm(files):\n",
    "    sq.import_file(file)\n",
    "print('creating index')\n",
    "with ezr.Timer('indexing'):\n",
    "    sq.create_index()\n"
   ]
  },
  {
   "cell_type": "code",
   "execution_count": 32,
   "metadata": {},
   "outputs": [
    {
     "name": "stdout",
     "output_type": "stream",
     "text": [
      "__time__,4.649083,indexing\n"
     ]
    }
   ],
   "source": [
    "with ezr.Timer('indexing'):\n",
    "    sq.create_index()"
   ]
  },
  {
   "cell_type": "code",
   "execution_count": null,
   "metadata": {},
   "outputs": [],
   "source": []
  },
  {
   "cell_type": "code",
   "execution_count": null,
   "metadata": {},
   "outputs": [],
   "source": []
  },
  {
   "cell_type": "code",
   "execution_count": null,
   "metadata": {},
   "outputs": [],
   "source": []
  },
  {
   "cell_type": "code",
   "execution_count": null,
   "metadata": {},
   "outputs": [],
   "source": []
  },
  {
   "cell_type": "code",
   "execution_count": null,
   "metadata": {},
   "outputs": [],
   "source": []
  },
  {
   "cell_type": "code",
   "execution_count": null,
   "metadata": {},
   "outputs": [],
   "source": []
  },
  {
   "cell_type": "code",
   "execution_count": null,
   "metadata": {},
   "outputs": [],
   "source": []
  },
  {
   "cell_type": "code",
   "execution_count": null,
   "metadata": {},
   "outputs": [],
   "source": []
  },
  {
   "cell_type": "code",
   "execution_count": null,
   "metadata": {},
   "outputs": [],
   "source": []
  },
  {
   "cell_type": "code",
   "execution_count": null,
   "metadata": {},
   "outputs": [],
   "source": []
  },
  {
   "cell_type": "code",
   "execution_count": null,
   "metadata": {},
   "outputs": [],
   "source": []
  },
  {
   "cell_type": "code",
   "execution_count": 23,
   "metadata": {},
   "outputs": [
    {
     "name": "stdout",
     "output_type": "stream",
     "text": [
      "('spots',)\n"
     ]
    }
   ],
   "source": [
    "with sq.engine.connect() as con:\n",
    "    result = con.execute(\"\"\"\n",
    "        SELECT \n",
    "            name\n",
    "        FROM \n",
    "            sqlite_master \n",
    "        WHERE \n",
    "            type ='table' AND \n",
    "            name NOT LIKE 'sqlite_%';\n",
    "    \"\"\")\n",
    "    for rec in result:\n",
    "        print(rec)"
   ]
  },
  {
   "cell_type": "code",
   "execution_count": 24,
   "metadata": {},
   "outputs": [
    {
     "data": {
      "text/plain": [
       "{'type': 'table',\n",
       " 'name': 'spots',\n",
       " 'tbl_name': 'spots',\n",
       " 'rootpage': 2,\n",
       " 'sql': 'CREATE TABLE spots(\\n                spot_id INT8,\\n                timestamp INT8,\\n                reporter VARCHAR,\\n                reporters_grid VARCHAR,\\n                snr INT2,\\n                frequency DOUBLE,\\n                call_sign VARCHAR,\\n                grid VARCHAR,\\n                power INT2,\\n                drift INT2,\\n                distance INT8,\\n                azimuth INT8,\\n                band INT2,\\n                version VARCHAR,\\n                code INT2\\n            )'}"
      ]
     },
     "metadata": {},
     "output_type": "display_data"
    }
   ],
   "source": [
    "with sq.engine.connect() as con:\n",
    "    result = con.execute(\"\"\"\n",
    "        SELECT \n",
    "            *\n",
    "        FROM \n",
    "            sqlite_master \n",
    "    \"\"\")\n",
    "    for rec in result:\n",
    "        display(dict(rec))\n"
   ]
  },
  {
   "cell_type": "code",
   "execution_count": 25,
   "metadata": {},
   "outputs": [],
   "source": [
    "df.to_sql('spots', con=sq.engine, if_exists='append', index=False)"
   ]
  },
  {
   "cell_type": "code",
   "execution_count": null,
   "metadata": {},
   "outputs": [],
   "source": []
  },
  {
   "cell_type": "code",
   "execution_count": 27,
   "metadata": {},
   "outputs": [
    {
     "data": {
      "text/html": [
       "<div>\n",
       "<style scoped>\n",
       "    .dataframe tbody tr th:only-of-type {\n",
       "        vertical-align: middle;\n",
       "    }\n",
       "\n",
       "    .dataframe tbody tr th {\n",
       "        vertical-align: top;\n",
       "    }\n",
       "\n",
       "    .dataframe thead th {\n",
       "        text-align: right;\n",
       "    }\n",
       "</style>\n",
       "<table border=\"1\" class=\"dataframe\">\n",
       "  <thead>\n",
       "    <tr style=\"text-align: right;\">\n",
       "      <th></th>\n",
       "      <th>spot_id</th>\n",
       "      <th>timestamp</th>\n",
       "      <th>reporter</th>\n",
       "      <th>reporters_grid</th>\n",
       "      <th>snr</th>\n",
       "      <th>frequency</th>\n",
       "      <th>call_sign</th>\n",
       "      <th>grid</th>\n",
       "      <th>power</th>\n",
       "      <th>drift</th>\n",
       "      <th>distance</th>\n",
       "      <th>azimuth</th>\n",
       "      <th>band</th>\n",
       "      <th>version</th>\n",
       "      <th>code</th>\n",
       "    </tr>\n",
       "  </thead>\n",
       "  <tbody>\n",
       "    <tr>\n",
       "      <th>0</th>\n",
       "      <td>1913207476</td>\n",
       "      <td>1577836800</td>\n",
       "      <td>DP0GVN</td>\n",
       "      <td>IB59uh</td>\n",
       "      <td>-23</td>\n",
       "      <td>7.040077</td>\n",
       "      <td>2E0ETU</td>\n",
       "      <td>IO81wv</td>\n",
       "      <td>27</td>\n",
       "      <td>0</td>\n",
       "      <td>13640</td>\n",
       "      <td>182</td>\n",
       "      <td>7</td>\n",
       "      <td>None</td>\n",
       "      <td>0</td>\n",
       "    </tr>\n",
       "    <tr>\n",
       "      <th>1</th>\n",
       "      <td>1913208199</td>\n",
       "      <td>1577836800</td>\n",
       "      <td>IW2NKE</td>\n",
       "      <td>JN63np</td>\n",
       "      <td>-10</td>\n",
       "      <td>7.040077</td>\n",
       "      <td>2E0ETU</td>\n",
       "      <td>IO81wv</td>\n",
       "      <td>27</td>\n",
       "      <td>0</td>\n",
       "      <td>1458</td>\n",
       "      <td>123</td>\n",
       "      <td>7</td>\n",
       "      <td>None</td>\n",
       "      <td>0</td>\n",
       "    </tr>\n",
       "    <tr>\n",
       "      <th>2</th>\n",
       "      <td>1913208025</td>\n",
       "      <td>1577836800</td>\n",
       "      <td>IZ3EAW/B</td>\n",
       "      <td>JN55xi</td>\n",
       "      <td>-20</td>\n",
       "      <td>7.040029</td>\n",
       "      <td>2E0ETU</td>\n",
       "      <td>IO81wv</td>\n",
       "      <td>27</td>\n",
       "      <td>0</td>\n",
       "      <td>1262</td>\n",
       "      <td>120</td>\n",
       "      <td>7</td>\n",
       "      <td>1.3 Kiwi</td>\n",
       "      <td>0</td>\n",
       "    </tr>\n",
       "    <tr>\n",
       "      <th>3</th>\n",
       "      <td>1913206488</td>\n",
       "      <td>1577836800</td>\n",
       "      <td>KF4TEK</td>\n",
       "      <td>FM18dr</td>\n",
       "      <td>-22</td>\n",
       "      <td>7.040079</td>\n",
       "      <td>2E0ETU</td>\n",
       "      <td>IO81wv</td>\n",
       "      <td>27</td>\n",
       "      <td>0</td>\n",
       "      <td>5810</td>\n",
       "      <td>287</td>\n",
       "      <td>7</td>\n",
       "      <td>2.1.2</td>\n",
       "      <td>0</td>\n",
       "    </tr>\n",
       "    <tr>\n",
       "      <th>4</th>\n",
       "      <td>1913208961</td>\n",
       "      <td>1577836800</td>\n",
       "      <td>OE9HLH</td>\n",
       "      <td>JN47um</td>\n",
       "      <td>-25</td>\n",
       "      <td>7.040077</td>\n",
       "      <td>2E0ETU</td>\n",
       "      <td>IO81wv</td>\n",
       "      <td>27</td>\n",
       "      <td>0</td>\n",
       "      <td>978</td>\n",
       "      <td>115</td>\n",
       "      <td>7</td>\n",
       "      <td>None</td>\n",
       "      <td>0</td>\n",
       "    </tr>\n",
       "  </tbody>\n",
       "</table>\n",
       "</div>"
      ],
      "text/plain": [
       "      spot_id   timestamp  reporter reporters_grid  snr  frequency call_sign  \\\n",
       "0  1913207476  1577836800    DP0GVN         IB59uh  -23   7.040077    2E0ETU   \n",
       "1  1913208199  1577836800    IW2NKE         JN63np  -10   7.040077    2E0ETU   \n",
       "2  1913208025  1577836800  IZ3EAW/B         JN55xi  -20   7.040029    2E0ETU   \n",
       "3  1913206488  1577836800    KF4TEK         FM18dr  -22   7.040079    2E0ETU   \n",
       "4  1913208961  1577836800    OE9HLH         JN47um  -25   7.040077    2E0ETU   \n",
       "\n",
       "     grid  power  drift  distance  azimuth  band   version  code  \n",
       "0  IO81wv     27      0     13640      182     7      None     0  \n",
       "1  IO81wv     27      0      1458      123     7      None     0  \n",
       "2  IO81wv     27      0      1262      120     7  1.3 Kiwi     0  \n",
       "3  IO81wv     27      0      5810      287     7     2.1.2     0  \n",
       "4  IO81wv     27      0       978      115     7      None     0  "
      ]
     },
     "execution_count": 27,
     "metadata": {},
     "output_type": "execute_result"
    }
   ],
   "source": [
    "with sq.engine.connect() as con:\n",
    "    result = con.execute(\"\"\"\n",
    "        SELECT \n",
    "            *\n",
    "        FROM \n",
    "            spots\n",
    "        LIMIT 5;\n",
    "    \"\"\")\n",
    "    \n",
    "    xxx = pd.DataFrame(result, columns=sq.columns())\n",
    "    \n",
    "xxx\n"
   ]
  },
  {
   "cell_type": "code",
   "execution_count": null,
   "metadata": {},
   "outputs": [],
   "source": []
  }
 ],
 "metadata": {
  "kernelspec": {
   "display_name": "Python 3",
   "language": "python",
   "name": "python3"
  },
  "language_info": {
   "codemirror_mode": {
    "name": "ipython",
    "version": 3
   },
   "file_extension": ".py",
   "mimetype": "text/x-python",
   "name": "python",
   "nbconvert_exporter": "python",
   "pygments_lexer": "ipython3",
   "version": "3.8.5"
  }
 },
 "nbformat": 4,
 "nbformat_minor": 4
}
