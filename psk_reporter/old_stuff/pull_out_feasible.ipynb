{
 "cells": [
  {
   "cell_type": "code",
   "execution_count": null,
   "metadata": {},
   "outputs": [],
   "source": [
    "import pandas as pd\n",
    "import easier as ezr\n",
    "import holoviews as hv\n",
    "import glob\n",
    "import sys\n",
    "hv.extension('bokeh')"
   ]
  },
  {
   "cell_type": "code",
   "execution_count": null,
   "metadata": {},
   "outputs": [],
   "source": [
    "%opts Curve Histogram [width=800, height=400]"
   ]
  },
  {
   "cell_type": "code",
   "execution_count": null,
   "metadata": {},
   "outputs": [],
   "source": [
    "def load(file_name, low_memory=True):\n",
    "    available_cols = [\n",
    "        'spot_id',\n",
    "        'timestamp',\n",
    "        'reporter',\n",
    "        'reporters_grid',\n",
    "        'snr',\n",
    "        'frequency',\n",
    "        'call_sign',\n",
    "        'grid',\n",
    "        'power',\n",
    "        'drift',\n",
    "        'distance',\n",
    "        'azimuth',\n",
    "        'band',\n",
    "        'version',\n",
    "        'code'\n",
    "    ]\n",
    "\n",
    "    desired_cols = [\n",
    "        'spot_id',\n",
    "        'timestamp',\n",
    "        'reporter',\n",
    "        'reporters_grid',\n",
    "        'snr',\n",
    "        'frequency',\n",
    "        'call_sign',\n",
    "        'grid',\n",
    "        'power',\n",
    "        'distance',\n",
    "        'code',\n",
    "    ]\n",
    "\n",
    "    col_numbers = [available_cols.index(v) for v in desired_cols]\n",
    "    df = pd.read_csv(\n",
    "        file_name, \n",
    "        usecols=col_numbers,\n",
    "        names=desired_cols,\n",
    "        low_memory=low_memory,\n",
    "    )\n",
    "    \n",
    "    df['ssb_power'] = 10 ** ((37 + (df.power - 30) - df.snr) / 10)\n",
    "\n",
    "    df = df[df.ssb_power < 70]\n",
    "    df = df[df.code == 0]\n",
    "    df = df.drop('code', axis=1)\n",
    "    return df\n",
    "   \n",
    "\n"
   ]
  },
  {
   "cell_type": "code",
   "execution_count": null,
   "metadata": {},
   "outputs": [],
   "source": [
    "input_files = glob.glob('./data/wsprnet/wsprspots*.gz')\n",
    "for input_file in sorted(input_files):\n",
    "    output_file = input_file.replace('.csv.gz', '_active.csv')\n",
    "    with ezr.Timer(input_file):\n",
    "        try:\n",
    "            df = load(input_file)\n",
    "            df.to_csv(output_file, index=False)\n",
    "        except:\n",
    "            print(f'**************** {input_file}')\n"
   ]
  },
  {
   "cell_type": "code",
   "execution_count": null,
   "metadata": {},
   "outputs": [],
   "source": []
  },
  {
   "cell_type": "code",
   "execution_count": null,
   "metadata": {},
   "outputs": [],
   "source": [
    "\n",
    "input_file = './data/wsprnet/wsprspots-2015-11.csv.gz'\n",
    "output_file = input_file.replace('.csv.gz', '_active.csv')\n",
    "\n",
    "df = load(input_file)\n",
    "df.to_csv(output_file, index=False)\n",
    "\n",
    "\n"
   ]
  },
  {
   "cell_type": "code",
   "execution_count": null,
   "metadata": {},
   "outputs": [],
   "source": [
    "df.dtypes"
   ]
  },
  {
   "cell_type": "code",
   "execution_count": null,
   "metadata": {},
   "outputs": [],
   "source": [
    "df.power.astype(float)"
   ]
  },
  {
   "cell_type": "code",
   "execution_count": null,
   "metadata": {},
   "outputs": [],
   "source": [
    "df[df.power == 'DN07']"
   ]
  },
  {
   "cell_type": "code",
   "execution_count": null,
   "metadata": {},
   "outputs": [],
   "source": []
  }
 ],
 "metadata": {
  "kernelspec": {
   "display_name": "Python 3",
   "language": "python",
   "name": "python3"
  },
  "language_info": {
   "codemirror_mode": {
    "name": "ipython",
    "version": 3
   },
   "file_extension": ".py",
   "mimetype": "text/x-python",
   "name": "python",
   "nbconvert_exporter": "python",
   "pygments_lexer": "ipython3",
   "version": "3.6.8"
  }
 },
 "nbformat": 4,
 "nbformat_minor": 4
}
