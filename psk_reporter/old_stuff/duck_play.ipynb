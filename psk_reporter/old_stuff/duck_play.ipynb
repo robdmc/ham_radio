{
 "cells": [
  {
   "cell_type": "code",
   "execution_count": 1,
   "metadata": {},
   "outputs": [],
   "source": [
    "import maidenhead\n",
    "import datetime\n",
    "import pandas as pd\n",
    "import dask.dataframe as dadf\n",
    "import glob\n",
    "import pyarrow.parquet as pq\n",
    "import pyarrow as pa\n",
    "from tqdm import tqdm\n",
    "import easier as ezr\n",
    "import duckdb\n",
    "import os\n",
    "# import datashader.spatial.points as dsp"
   ]
  },
  {
   "cell_type": "code",
   "execution_count": 4,
   "metadata": {},
   "outputs": [
    {
     "data": {
      "text/html": [
       "<div>\n",
       "<style scoped>\n",
       "    .dataframe tbody tr th:only-of-type {\n",
       "        vertical-align: middle;\n",
       "    }\n",
       "\n",
       "    .dataframe tbody tr th {\n",
       "        vertical-align: top;\n",
       "    }\n",
       "\n",
       "    .dataframe thead th {\n",
       "        text-align: right;\n",
       "    }\n",
       "</style>\n",
       "<table border=\"1\" class=\"dataframe\">\n",
       "  <thead>\n",
       "    <tr style=\"text-align: right;\">\n",
       "      <th></th>\n",
       "      <th>spot_id</th>\n",
       "      <th>timestamp</th>\n",
       "      <th>reporter</th>\n",
       "      <th>reporters_grid</th>\n",
       "      <th>snr</th>\n",
       "      <th>frequency</th>\n",
       "      <th>call_sign</th>\n",
       "      <th>grid</th>\n",
       "      <th>power</th>\n",
       "      <th>drift</th>\n",
       "      <th>distance</th>\n",
       "      <th>azimuth</th>\n",
       "      <th>band</th>\n",
       "      <th>version</th>\n",
       "      <th>code</th>\n",
       "    </tr>\n",
       "  </thead>\n",
       "  <tbody>\n",
       "    <tr>\n",
       "      <th>0</th>\n",
       "      <td>1913207476</td>\n",
       "      <td>1577836800</td>\n",
       "      <td>DP0GVN</td>\n",
       "      <td>IB59uh</td>\n",
       "      <td>-23</td>\n",
       "      <td>7.040077</td>\n",
       "      <td>2E0ETU</td>\n",
       "      <td>IO81wv</td>\n",
       "      <td>27</td>\n",
       "      <td>0</td>\n",
       "      <td>13640</td>\n",
       "      <td>182</td>\n",
       "      <td>7</td>\n",
       "      <td>NaN</td>\n",
       "      <td>0</td>\n",
       "    </tr>\n",
       "    <tr>\n",
       "      <th>1</th>\n",
       "      <td>1913208199</td>\n",
       "      <td>1577836800</td>\n",
       "      <td>IW2NKE</td>\n",
       "      <td>JN63np</td>\n",
       "      <td>-10</td>\n",
       "      <td>7.040077</td>\n",
       "      <td>2E0ETU</td>\n",
       "      <td>IO81wv</td>\n",
       "      <td>27</td>\n",
       "      <td>0</td>\n",
       "      <td>1458</td>\n",
       "      <td>123</td>\n",
       "      <td>7</td>\n",
       "      <td>NaN</td>\n",
       "      <td>0</td>\n",
       "    </tr>\n",
       "    <tr>\n",
       "      <th>2</th>\n",
       "      <td>1913208025</td>\n",
       "      <td>1577836800</td>\n",
       "      <td>IZ3EAW/B</td>\n",
       "      <td>JN55xi</td>\n",
       "      <td>-20</td>\n",
       "      <td>7.040029</td>\n",
       "      <td>2E0ETU</td>\n",
       "      <td>IO81wv</td>\n",
       "      <td>27</td>\n",
       "      <td>0</td>\n",
       "      <td>1262</td>\n",
       "      <td>120</td>\n",
       "      <td>7</td>\n",
       "      <td>1.3 Kiwi</td>\n",
       "      <td>0</td>\n",
       "    </tr>\n",
       "    <tr>\n",
       "      <th>3</th>\n",
       "      <td>1913206488</td>\n",
       "      <td>1577836800</td>\n",
       "      <td>KF4TEK</td>\n",
       "      <td>FM18dr</td>\n",
       "      <td>-22</td>\n",
       "      <td>7.040079</td>\n",
       "      <td>2E0ETU</td>\n",
       "      <td>IO81wv</td>\n",
       "      <td>27</td>\n",
       "      <td>0</td>\n",
       "      <td>5810</td>\n",
       "      <td>287</td>\n",
       "      <td>7</td>\n",
       "      <td>2.1.2</td>\n",
       "      <td>0</td>\n",
       "    </tr>\n",
       "    <tr>\n",
       "      <th>4</th>\n",
       "      <td>1913208961</td>\n",
       "      <td>1577836800</td>\n",
       "      <td>OE9HLH</td>\n",
       "      <td>JN47um</td>\n",
       "      <td>-25</td>\n",
       "      <td>7.040077</td>\n",
       "      <td>2E0ETU</td>\n",
       "      <td>IO81wv</td>\n",
       "      <td>27</td>\n",
       "      <td>0</td>\n",
       "      <td>978</td>\n",
       "      <td>115</td>\n",
       "      <td>7</td>\n",
       "      <td>NaN</td>\n",
       "      <td>0</td>\n",
       "    </tr>\n",
       "  </tbody>\n",
       "</table>\n",
       "</div>"
      ],
      "text/plain": [
       "      spot_id   timestamp  reporter reporters_grid  snr  frequency call_sign  \\\n",
       "0  1913207476  1577836800    DP0GVN         IB59uh  -23   7.040077    2E0ETU   \n",
       "1  1913208199  1577836800    IW2NKE         JN63np  -10   7.040077    2E0ETU   \n",
       "2  1913208025  1577836800  IZ3EAW/B         JN55xi  -20   7.040029    2E0ETU   \n",
       "3  1913206488  1577836800    KF4TEK         FM18dr  -22   7.040079    2E0ETU   \n",
       "4  1913208961  1577836800    OE9HLH         JN47um  -25   7.040077    2E0ETU   \n",
       "\n",
       "     grid  power  drift  distance  azimuth  band   version  code  \n",
       "0  IO81wv     27      0     13640      182     7       NaN     0  \n",
       "1  IO81wv     27      0      1458      123     7       NaN     0  \n",
       "2  IO81wv     27      0      1262      120     7  1.3 Kiwi     0  \n",
       "3  IO81wv     27      0      5810      287     7     2.1.2     0  \n",
       "4  IO81wv     27      0       978      115     7       NaN     0  "
      ]
     },
     "execution_count": 4,
     "metadata": {},
     "output_type": "execute_result"
    }
   ],
   "source": [
    "available_cols = [\n",
    "    'spot_id',\n",
    "    'timestamp',\n",
    "    'reporter',\n",
    "    'reporters_grid',\n",
    "    'snr',\n",
    "    'frequency',\n",
    "    'call_sign',\n",
    "    'grid',\n",
    "    'power',\n",
    "    'drift',\n",
    "    'distance',\n",
    "    'azimuth',\n",
    "    'band',\n",
    "    'version',\n",
    "    'code'\n",
    "]\n",
    "\n",
    "df = pd.read_csv('./data/wsprnet/2020/wsprspots-2020-01_aa.csv.gz', names=available_cols,)\n",
    "df.head()\n"
   ]
  },
  {
   "cell_type": "code",
   "execution_count": 8,
   "metadata": {},
   "outputs": [
    {
     "data": {
      "text/plain": [
       "<duckdb.DuckDBPyConnection at 0x7fd245725cf0>"
      ]
     },
     "execution_count": 8,
     "metadata": {},
     "output_type": "execute_result"
    }
   ],
   "source": [
    "conn = duckdb.connect(database=':memory:', read_only=False)\n",
    "conn.register('mydf', df)"
   ]
  },
  {
   "cell_type": "code",
   "execution_count": 16,
   "metadata": {},
   "outputs": [
    {
     "data": {
      "text/plain": [
       "<duckdb.DuckDBPyConnection at 0x7fd245725cf0>"
      ]
     },
     "execution_count": 16,
     "metadata": {},
     "output_type": "execute_result"
    }
   ],
   "source": [
    "conn.execute('create table rob as select * from mydf')\n"
   ]
  },
  {
   "cell_type": "code",
   "execution_count": 22,
   "metadata": {},
   "outputs": [
    {
     "data": {
      "text/html": [
       "<div>\n",
       "<style scoped>\n",
       "    .dataframe tbody tr th:only-of-type {\n",
       "        vertical-align: middle;\n",
       "    }\n",
       "\n",
       "    .dataframe tbody tr th {\n",
       "        vertical-align: top;\n",
       "    }\n",
       "\n",
       "    .dataframe thead th {\n",
       "        text-align: right;\n",
       "    }\n",
       "</style>\n",
       "<table border=\"1\" class=\"dataframe\">\n",
       "  <thead>\n",
       "    <tr style=\"text-align: right;\">\n",
       "      <th></th>\n",
       "      <th>count(spot_id)</th>\n",
       "    </tr>\n",
       "  </thead>\n",
       "  <tbody>\n",
       "    <tr>\n",
       "      <th>0</th>\n",
       "      <td>500000</td>\n",
       "    </tr>\n",
       "  </tbody>\n",
       "</table>\n",
       "</div>"
      ],
      "text/plain": [
       "   count(spot_id)\n",
       "0          500000"
      ]
     },
     "execution_count": 22,
     "metadata": {},
     "output_type": "execute_result"
    }
   ],
   "source": [
    "conn.execute('select count(spot_id) from rob')\n",
    "xxx = conn.fetchdf()\n",
    "xxx"
   ]
  },
  {
   "cell_type": "code",
   "execution_count": 12,
   "metadata": {},
   "outputs": [
    {
     "name": "stderr",
     "output_type": "stream",
     "text": [
      "100%|██████████| 26/26 [03:57<00:00,  9.15s/it]\n"
     ]
    },
    {
     "name": "stdout",
     "output_type": "stream",
     "text": [
      "creating index\n",
      "__time__,16.058735,indexing\n"
     ]
    }
   ],
   "source": [
    "class Duck:\n",
    "    \n",
    "    FILE_NAME = './data/wsprnet/spots.db'\n",
    "    \n",
    "    def __init__(self, overwrite=False):\n",
    "        if overwrite and os.path.isfile(self.FILE_NAME):\n",
    "            os.unlink(self.FILE_NAME)\n",
    "        \n",
    "    def connection(self):\n",
    "        db_exists = os.path.isfile(self.FILE_NAME)\n",
    "        conn = duckdb.connect(self.FILE_NAME)\n",
    "        if not db_exists:\n",
    "            self.create_table(conn)\n",
    "        return conn\n",
    "        \n",
    "            \n",
    "    def create_table(self, connection):\n",
    "        cmd = \"\"\"CREATE TABLE spots(\n",
    "            spot_id INT8,\n",
    "            timestamp INT8,\n",
    "            reporter VARCHAR,\n",
    "            reporters_grid VARCHAR,\n",
    "            snr INT2,\n",
    "            frequency DOUBLE,\n",
    "            call_sign VARCHAR,\n",
    "            grid VARCHAR,\n",
    "            power INT2,\n",
    "            drift INT2,\n",
    "            distance INT8,\n",
    "            azimuth INT8,\n",
    "            band INT2,\n",
    "            version VARCHAR,\n",
    "            code INT2\n",
    "        )\"\"\"\n",
    "        connection.execute(cmd)\n",
    "        \n",
    "    def import_file(self, file_name):\n",
    "        df = pd.read_csv(file_name)\n",
    "        conn = self.connection()\n",
    "        conn.register('df', df)\n",
    "        cmd = f\"\"\"\n",
    "            INSERT INTO spots SELECT * FROM df\n",
    "        \"\"\"\n",
    "        conn.execute(cmd)\n",
    "        conn.close()\n",
    "        \n",
    "    def create_index(self):\n",
    "        cmd = \"\"\"\n",
    "            CREATE INDEX timestamp_ind ON spots (timestamp)\n",
    "        \"\"\"\n",
    "        conn = self.connection()\n",
    "        conn.execute(cmd)\n",
    "        conn.close()\n",
    "        \n",
    "        \n",
    "        \n",
    "duck = Duck(overwrite=True)\n",
    "files = glob.glob('./data/wsprnet/2020/wsprspots-2020-01_a*.csv.gz')\n",
    "for file in tqdm(files):\n",
    "    duck.import_file(file)\n",
    "print('creating index')\n",
    "with ezr.Timer('indexing'):\n",
    "    duck.create_index()\n",
    "\n",
    "    \n",
    "        \n",
    "            \n",
    "        "
   ]
  },
  {
   "cell_type": "code",
   "execution_count": 10,
   "metadata": {},
   "outputs": [
    {
     "name": "stdout",
     "output_type": "stream",
     "text": [
      "__time__,0.070486,indexing\n"
     ]
    }
   ],
   "source": [
    "with ezr.Timer('indexing'):\n",
    "    Duck().create_index()"
   ]
  },
  {
   "cell_type": "code",
   "execution_count": null,
   "metadata": {},
   "outputs": [],
   "source": []
  },
  {
   "cell_type": "code",
   "execution_count": 22,
   "metadata": {},
   "outputs": [
    {
     "name": "stdout",
     "output_type": "stream",
     "text": [
      "__time__,0.099694,connecting\n"
     ]
    },
    {
     "ename": "RuntimeError",
     "evalue": "Parser: Unrecognized PRAGMA keyword: index_info",
     "output_type": "error",
     "traceback": [
      "\u001b[0;31m---------------------------------------------------------------------------\u001b[0m",
      "\u001b[0;31mRuntimeError\u001b[0m                              Traceback (most recent call last)",
      "\u001b[0;32m<ipython-input-22-d10fee63afba>\u001b[0m in \u001b[0;36m<module>\u001b[0;34m\u001b[0m\n\u001b[1;32m      6\u001b[0m \u001b[0;32mwith\u001b[0m \u001b[0mezr\u001b[0m\u001b[0;34m.\u001b[0m\u001b[0mTimer\u001b[0m\u001b[0;34m(\u001b[0m\u001b[0;34m'querying'\u001b[0m\u001b[0;34m)\u001b[0m\u001b[0;34m:\u001b[0m\u001b[0;34m\u001b[0m\u001b[0;34m\u001b[0m\u001b[0m\n\u001b[1;32m      7\u001b[0m \u001b[0;31m#     conn.execute('select * from spots WHERE timestamp = 1578123360')\u001b[0m\u001b[0;34m\u001b[0m\u001b[0;34m\u001b[0m\u001b[0;34m\u001b[0m\u001b[0m\n\u001b[0;32m----> 8\u001b[0;31m     \u001b[0mconn\u001b[0m\u001b[0;34m.\u001b[0m\u001b[0mexecute\u001b[0m\u001b[0;34m(\u001b[0m\u001b[0;34m\"PRAGMA index_info('spots')\"\u001b[0m\u001b[0;34m)\u001b[0m\u001b[0;34m\u001b[0m\u001b[0;34m\u001b[0m\u001b[0m\n\u001b[0m\u001b[1;32m      9\u001b[0m     \u001b[0mdfx\u001b[0m \u001b[0;34m=\u001b[0m \u001b[0mconn\u001b[0m\u001b[0;34m.\u001b[0m\u001b[0mfetchdf\u001b[0m\u001b[0;34m(\u001b[0m\u001b[0;34m)\u001b[0m\u001b[0;34m\u001b[0m\u001b[0;34m\u001b[0m\u001b[0m\n\u001b[1;32m     10\u001b[0m     \u001b[0mconn\u001b[0m\u001b[0;34m.\u001b[0m\u001b[0mclose\u001b[0m\u001b[0;34m(\u001b[0m\u001b[0;34m)\u001b[0m\u001b[0;34m\u001b[0m\u001b[0;34m\u001b[0m\u001b[0m\n",
      "\u001b[0;31mRuntimeError\u001b[0m: Parser: Unrecognized PRAGMA keyword: index_info"
     ]
    }
   ],
   "source": [
    "with ezr.Timer('connecting'):\n",
    "    conn = duckdb.connect(Duck.FILE_NAME)\n",
    "# conn.execute('select count(*) from spots')\n",
    "# conn.execute('select * from spots ORDER BY timestamp DESC LIMIT 1000')\n",
    "\n",
    "with ezr.Timer('querying'):\n",
    "#     conn.execute('select * from spots WHERE timestamp = 1578123360')\n",
    "    conn.execute(\"PRAGMA index_info('spots')\")\n",
    "    dfx = conn.fetchdf()\n",
    "    conn.close()\n",
    "dfx.tail()"
   ]
  },
  {
   "cell_type": "code",
   "execution_count": null,
   "metadata": {},
   "outputs": [],
   "source": [
    "conn = duckdb.connect(database=':memory:', read_only=False)\n",
    "conn.execute()\n"
   ]
  },
  {
   "cell_type": "code",
   "execution_count": null,
   "metadata": {},
   "outputs": [],
   "source": []
  }
 ],
 "metadata": {
  "kernelspec": {
   "display_name": "Python 3",
   "language": "python",
   "name": "python3"
  },
  "language_info": {
   "codemirror_mode": {
    "name": "ipython",
    "version": 3
   },
   "file_extension": ".py",
   "mimetype": "text/x-python",
   "name": "python",
   "nbconvert_exporter": "python",
   "pygments_lexer": "ipython3",
   "version": "3.8.5"
  }
 },
 "nbformat": 4,
 "nbformat_minor": 4
}
